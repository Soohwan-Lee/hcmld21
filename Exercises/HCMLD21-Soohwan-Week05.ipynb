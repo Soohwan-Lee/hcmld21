{
 "cells": [
  {
   "cell_type": "markdown",
   "metadata": {},
   "source": [
    "# 5.1 How to create deep learning neural network model"
   ]
  },
  {
   "cell_type": "code",
   "execution_count": 1,
   "metadata": {},
   "outputs": [
    {
     "name": "stderr",
     "output_type": "stream",
     "text": [
      "Using TensorFlow backend.\n"
     ]
    }
   ],
   "source": [
    "from numpy import loadtxt\n",
    "from keras.models import Sequential\n",
    "from keras.layers import Dense"
   ]
  },
  {
   "cell_type": "code",
   "execution_count": 2,
   "metadata": {},
   "outputs": [],
   "source": [
    "url = 'https://raw.githubusercontent.com/klee141/hcmld21/main/Datasets/pima-indians-diabetes.csv'"
   ]
  },
  {
   "cell_type": "code",
   "execution_count": 12,
   "metadata": {},
   "outputs": [],
   "source": [
    "dataset = loadtxt(url, delimiter=',')\n",
    "X = dataset[:,0:8]\n",
    "y = dataset[:,8]"
   ]
  },
  {
   "cell_type": "code",
   "execution_count": 18,
   "metadata": {},
   "outputs": [
    {
     "data": {
      "text/plain": [
       "(768, 9)"
      ]
     },
     "execution_count": 18,
     "metadata": {},
     "output_type": "execute_result"
    }
   ],
   "source": [
    "dataset.shape"
   ]
  },
  {
   "cell_type": "code",
   "execution_count": 20,
   "metadata": {},
   "outputs": [
    {
     "data": {
      "text/plain": [
       "(768, 8)"
      ]
     },
     "execution_count": 20,
     "metadata": {},
     "output_type": "execute_result"
    }
   ],
   "source": [
    "X.shape"
   ]
  },
  {
   "cell_type": "code",
   "execution_count": 21,
   "metadata": {},
   "outputs": [
    {
     "data": {
      "text/plain": [
       "(768,)"
      ]
     },
     "execution_count": 21,
     "metadata": {},
     "output_type": "execute_result"
    }
   ],
   "source": [
    "y.shape"
   ]
  },
  {
   "cell_type": "code",
   "execution_count": 7,
   "metadata": {},
   "outputs": [],
   "source": [
    "# define the keras model\n",
    "model = Sequential()\n",
    "model.add(Dense(12, input_dim=8, activation='relu'))\n",
    "model.add(Dense(8, activation='relu'))\n",
    "model.add(Dense(1, activation='sigmoid'))"
   ]
  },
  {
   "cell_type": "code",
   "execution_count": 8,
   "metadata": {},
   "outputs": [],
   "source": [
    "# compile the keras model\n",
    "model.compile(loss='binary_crossentropy', optimizer='adam', metrics=['accuracy'])"
   ]
  },
  {
   "cell_type": "code",
   "execution_count": 9,
   "metadata": {},
   "outputs": [
    {
     "name": "stdout",
     "output_type": "stream",
     "text": [
      "Epoch 1/150\n",
      "768/768 [==============================] - 0s 210us/step - loss: 5.4092 - accuracy: 0.5260\n",
      "Epoch 2/150\n",
      "768/768 [==============================] - 0s 52us/step - loss: 2.4842 - accuracy: 0.4935\n",
      "Epoch 3/150\n",
      "768/768 [==============================] - 0s 50us/step - loss: 1.5427 - accuracy: 0.5378\n",
      "Epoch 4/150\n",
      "768/768 [==============================] - 0s 49us/step - loss: 1.1876 - accuracy: 0.5716\n",
      "Epoch 5/150\n",
      "768/768 [==============================] - 0s 49us/step - loss: 1.0385 - accuracy: 0.5586\n",
      "Epoch 6/150\n",
      "768/768 [==============================] - 0s 49us/step - loss: 0.9686 - accuracy: 0.6042\n",
      "Epoch 7/150\n",
      "768/768 [==============================] - 0s 50us/step - loss: 0.9002 - accuracy: 0.5990\n",
      "Epoch 8/150\n",
      "768/768 [==============================] - 0s 51us/step - loss: 0.8752 - accuracy: 0.6133\n",
      "Epoch 9/150\n",
      "768/768 [==============================] - 0s 48us/step - loss: 0.8244 - accuracy: 0.6341\n",
      "Epoch 10/150\n",
      "768/768 [==============================] - 0s 50us/step - loss: 0.7879 - accuracy: 0.6510\n",
      "Epoch 11/150\n",
      "768/768 [==============================] - 0s 49us/step - loss: 0.7416 - accuracy: 0.6367\n",
      "Epoch 12/150\n",
      "768/768 [==============================] - 0s 50us/step - loss: 0.7080 - accuracy: 0.6562\n",
      "Epoch 13/150\n",
      "768/768 [==============================] - 0s 54us/step - loss: 0.7404 - accuracy: 0.6445\n",
      "Epoch 14/150\n",
      "768/768 [==============================] - 0s 54us/step - loss: 0.7209 - accuracy: 0.6445\n",
      "Epoch 15/150\n",
      "768/768 [==============================] - 0s 51us/step - loss: 0.6698 - accuracy: 0.6810\n",
      "Epoch 16/150\n",
      "768/768 [==============================] - 0s 51us/step - loss: 0.6857 - accuracy: 0.6706\n",
      "Epoch 17/150\n",
      "768/768 [==============================] - 0s 53us/step - loss: 0.6711 - accuracy: 0.6589\n",
      "Epoch 18/150\n",
      "768/768 [==============================] - 0s 59us/step - loss: 0.6570 - accuracy: 0.6745\n",
      "Epoch 19/150\n",
      "768/768 [==============================] - 0s 56us/step - loss: 0.6446 - accuracy: 0.6667\n",
      "Epoch 20/150\n",
      "768/768 [==============================] - 0s 53us/step - loss: 0.6204 - accuracy: 0.6875\n",
      "Epoch 21/150\n",
      "768/768 [==============================] - 0s 52us/step - loss: 0.6769 - accuracy: 0.6484\n",
      "Epoch 22/150\n",
      "768/768 [==============================] - 0s 53us/step - loss: 0.6686 - accuracy: 0.6771\n",
      "Epoch 23/150\n",
      "768/768 [==============================] - 0s 51us/step - loss: 0.6212 - accuracy: 0.6849\n",
      "Epoch 24/150\n",
      "768/768 [==============================] - 0s 52us/step - loss: 0.6446 - accuracy: 0.6693\n",
      "Epoch 25/150\n",
      "768/768 [==============================] - 0s 51us/step - loss: 0.6470 - accuracy: 0.6771\n",
      "Epoch 26/150\n",
      "768/768 [==============================] - 0s 51us/step - loss: 0.6171 - accuracy: 0.6901\n",
      "Epoch 27/150\n",
      "768/768 [==============================] - 0s 50us/step - loss: 0.6605 - accuracy: 0.6810\n",
      "Epoch 28/150\n",
      "768/768 [==============================] - 0s 52us/step - loss: 0.5980 - accuracy: 0.7201\n",
      "Epoch 29/150\n",
      "768/768 [==============================] - 0s 51us/step - loss: 0.6106 - accuracy: 0.6940\n",
      "Epoch 30/150\n",
      "768/768 [==============================] - 0s 53us/step - loss: 0.6511 - accuracy: 0.6680\n",
      "Epoch 31/150\n",
      "768/768 [==============================] - 0s 53us/step - loss: 0.6426 - accuracy: 0.6758\n",
      "Epoch 32/150\n",
      "768/768 [==============================] - 0s 53us/step - loss: 0.6571 - accuracy: 0.6914\n",
      "Epoch 33/150\n",
      "768/768 [==============================] - 0s 51us/step - loss: 0.6063 - accuracy: 0.6940\n",
      "Epoch 34/150\n",
      "768/768 [==============================] - 0s 51us/step - loss: 0.6190 - accuracy: 0.6797\n",
      "Epoch 35/150\n",
      "768/768 [==============================] - 0s 52us/step - loss: 0.5853 - accuracy: 0.7135\n",
      "Epoch 36/150\n",
      "768/768 [==============================] - 0s 51us/step - loss: 0.5894 - accuracy: 0.7018\n",
      "Epoch 37/150\n",
      "768/768 [==============================] - 0s 54us/step - loss: 0.5948 - accuracy: 0.7044\n",
      "Epoch 38/150\n",
      "768/768 [==============================] - 0s 53us/step - loss: 0.6013 - accuracy: 0.7044\n",
      "Epoch 39/150\n",
      "768/768 [==============================] - 0s 53us/step - loss: 0.5790 - accuracy: 0.7018\n",
      "Epoch 40/150\n",
      "768/768 [==============================] - 0s 53us/step - loss: 0.6270 - accuracy: 0.6693\n",
      "Epoch 41/150\n",
      "768/768 [==============================] - 0s 52us/step - loss: 0.6046 - accuracy: 0.6862\n",
      "Epoch 42/150\n",
      "768/768 [==============================] - 0s 51us/step - loss: 0.5872 - accuracy: 0.6992\n",
      "Epoch 43/150\n",
      "768/768 [==============================] - 0s 51us/step - loss: 0.5843 - accuracy: 0.6927\n",
      "Epoch 44/150\n",
      "768/768 [==============================] - 0s 54us/step - loss: 0.5690 - accuracy: 0.7044\n",
      "Epoch 45/150\n",
      "768/768 [==============================] - 0s 53us/step - loss: 0.5678 - accuracy: 0.7227\n",
      "Epoch 46/150\n",
      "768/768 [==============================] - 0s 50us/step - loss: 0.5616 - accuracy: 0.7266\n",
      "Epoch 47/150\n",
      "768/768 [==============================] - 0s 53us/step - loss: 0.5637 - accuracy: 0.7201\n",
      "Epoch 48/150\n",
      "768/768 [==============================] - 0s 56us/step - loss: 0.5819 - accuracy: 0.7096\n",
      "Epoch 49/150\n",
      "768/768 [==============================] - 0s 54us/step - loss: 0.5665 - accuracy: 0.7109\n",
      "Epoch 50/150\n",
      "768/768 [==============================] - 0s 52us/step - loss: 0.5695 - accuracy: 0.7318\n",
      "Epoch 51/150\n",
      "768/768 [==============================] - 0s 54us/step - loss: 0.5579 - accuracy: 0.7201\n",
      "Epoch 52/150\n",
      "768/768 [==============================] - 0s 55us/step - loss: 0.6653 - accuracy: 0.6862\n",
      "Epoch 53/150\n",
      "768/768 [==============================] - 0s 56us/step - loss: 0.5730 - accuracy: 0.7370\n",
      "Epoch 54/150\n",
      "768/768 [==============================] - 0s 58us/step - loss: 0.5656 - accuracy: 0.7188\n",
      "Epoch 55/150\n",
      "768/768 [==============================] - 0s 55us/step - loss: 0.5546 - accuracy: 0.7318\n",
      "Epoch 56/150\n",
      "768/768 [==============================] - 0s 53us/step - loss: 0.5502 - accuracy: 0.7396\n",
      "Epoch 57/150\n",
      "768/768 [==============================] - 0s 57us/step - loss: 0.5751 - accuracy: 0.7344\n",
      "Epoch 58/150\n",
      "768/768 [==============================] - 0s 55us/step - loss: 0.5640 - accuracy: 0.7292\n",
      "Epoch 59/150\n",
      "768/768 [==============================] - 0s 54us/step - loss: 0.5502 - accuracy: 0.7266\n",
      "Epoch 60/150\n",
      "768/768 [==============================] - 0s 51us/step - loss: 0.5464 - accuracy: 0.7214\n",
      "Epoch 61/150\n",
      "768/768 [==============================] - 0s 53us/step - loss: 0.5525 - accuracy: 0.7227\n",
      "Epoch 62/150\n",
      "768/768 [==============================] - 0s 53us/step - loss: 0.5583 - accuracy: 0.7253\n",
      "Epoch 63/150\n",
      "768/768 [==============================] - 0s 54us/step - loss: 0.5538 - accuracy: 0.7357\n",
      "Epoch 64/150\n",
      "768/768 [==============================] - 0s 52us/step - loss: 0.5758 - accuracy: 0.7031\n",
      "Epoch 65/150\n",
      "768/768 [==============================] - 0s 49us/step - loss: 0.5501 - accuracy: 0.7331\n",
      "Epoch 66/150\n",
      "768/768 [==============================] - 0s 53us/step - loss: 0.5578 - accuracy: 0.7344\n",
      "Epoch 67/150\n",
      "768/768 [==============================] - 0s 51us/step - loss: 0.5694 - accuracy: 0.7214\n",
      "Epoch 68/150\n",
      "768/768 [==============================] - 0s 52us/step - loss: 0.5570 - accuracy: 0.7240\n",
      "Epoch 69/150\n",
      "768/768 [==============================] - 0s 52us/step - loss: 0.5478 - accuracy: 0.7214\n",
      "Epoch 70/150\n",
      "768/768 [==============================] - 0s 52us/step - loss: 0.5852 - accuracy: 0.7253\n",
      "Epoch 71/150\n",
      "768/768 [==============================] - 0s 52us/step - loss: 0.5610 - accuracy: 0.7383\n",
      "Epoch 72/150\n",
      "768/768 [==============================] - 0s 52us/step - loss: 0.5425 - accuracy: 0.7396\n",
      "Epoch 73/150\n",
      "768/768 [==============================] - 0s 51us/step - loss: 0.5531 - accuracy: 0.7279\n",
      "Epoch 74/150\n",
      "768/768 [==============================] - 0s 51us/step - loss: 0.5504 - accuracy: 0.7266\n",
      "Epoch 75/150\n",
      "768/768 [==============================] - 0s 54us/step - loss: 0.5593 - accuracy: 0.7214\n",
      "Epoch 76/150\n",
      "768/768 [==============================] - 0s 55us/step - loss: 0.5362 - accuracy: 0.7292\n",
      "Epoch 77/150\n",
      "768/768 [==============================] - 0s 56us/step - loss: 0.5752 - accuracy: 0.7318\n",
      "Epoch 78/150\n",
      "768/768 [==============================] - 0s 57us/step - loss: 0.5939 - accuracy: 0.7096\n",
      "Epoch 79/150\n",
      "768/768 [==============================] - 0s 56us/step - loss: 0.5457 - accuracy: 0.7292\n",
      "Epoch 80/150\n"
     ]
    },
    {
     "name": "stdout",
     "output_type": "stream",
     "text": [
      "768/768 [==============================] - 0s 54us/step - loss: 0.5417 - accuracy: 0.7279\n",
      "Epoch 81/150\n",
      "768/768 [==============================] - 0s 53us/step - loss: 0.5582 - accuracy: 0.7279\n",
      "Epoch 82/150\n",
      "768/768 [==============================] - 0s 50us/step - loss: 0.5469 - accuracy: 0.7461\n",
      "Epoch 83/150\n",
      "768/768 [==============================] - 0s 56us/step - loss: 0.5478 - accuracy: 0.7253\n",
      "Epoch 84/150\n",
      "768/768 [==============================] - 0s 56us/step - loss: 0.5893 - accuracy: 0.7057\n",
      "Epoch 85/150\n",
      "768/768 [==============================] - 0s 57us/step - loss: 0.5343 - accuracy: 0.7305\n",
      "Epoch 86/150\n",
      "768/768 [==============================] - 0s 55us/step - loss: 0.5511 - accuracy: 0.7214\n",
      "Epoch 87/150\n",
      "768/768 [==============================] - 0s 55us/step - loss: 0.5365 - accuracy: 0.7344\n",
      "Epoch 88/150\n",
      "768/768 [==============================] - 0s 54us/step - loss: 0.5580 - accuracy: 0.7161\n",
      "Epoch 89/150\n",
      "768/768 [==============================] - 0s 55us/step - loss: 0.5598 - accuracy: 0.7188\n",
      "Epoch 90/150\n",
      "768/768 [==============================] - 0s 54us/step - loss: 0.5385 - accuracy: 0.7409\n",
      "Epoch 91/150\n",
      "768/768 [==============================] - 0s 55us/step - loss: 0.5422 - accuracy: 0.7383\n",
      "Epoch 92/150\n",
      "768/768 [==============================] - 0s 55us/step - loss: 0.5324 - accuracy: 0.7383\n",
      "Epoch 93/150\n",
      "768/768 [==============================] - 0s 52us/step - loss: 0.5225 - accuracy: 0.7318\n",
      "Epoch 94/150\n",
      "768/768 [==============================] - 0s 52us/step - loss: 0.5496 - accuracy: 0.7370\n",
      "Epoch 95/150\n",
      "768/768 [==============================] - 0s 52us/step - loss: 0.5391 - accuracy: 0.7331\n",
      "Epoch 96/150\n",
      "768/768 [==============================] - 0s 55us/step - loss: 0.5198 - accuracy: 0.7461\n",
      "Epoch 97/150\n",
      "768/768 [==============================] - 0s 55us/step - loss: 0.5253 - accuracy: 0.7526\n",
      "Epoch 98/150\n",
      "768/768 [==============================] - 0s 55us/step - loss: 0.5258 - accuracy: 0.7448\n",
      "Epoch 99/150\n",
      "768/768 [==============================] - 0s 55us/step - loss: 0.5161 - accuracy: 0.7513\n",
      "Epoch 100/150\n",
      "768/768 [==============================] - 0s 53us/step - loss: 0.5234 - accuracy: 0.7357\n",
      "Epoch 101/150\n",
      "768/768 [==============================] - 0s 52us/step - loss: 0.5413 - accuracy: 0.7383\n",
      "Epoch 102/150\n",
      "768/768 [==============================] - 0s 50us/step - loss: 0.5285 - accuracy: 0.7448\n",
      "Epoch 103/150\n",
      "768/768 [==============================] - 0s 51us/step - loss: 0.5618 - accuracy: 0.7292\n",
      "Epoch 104/150\n",
      "768/768 [==============================] - 0s 52us/step - loss: 0.5426 - accuracy: 0.7227\n",
      "Epoch 105/150\n",
      "768/768 [==============================] - 0s 50us/step - loss: 0.5346 - accuracy: 0.7487\n",
      "Epoch 106/150\n",
      "768/768 [==============================] - 0s 52us/step - loss: 0.5297 - accuracy: 0.7409\n",
      "Epoch 107/150\n",
      "768/768 [==============================] - 0s 52us/step - loss: 0.5117 - accuracy: 0.7682\n",
      "Epoch 108/150\n",
      "768/768 [==============================] - 0s 54us/step - loss: 0.5271 - accuracy: 0.7344\n",
      "Epoch 109/150\n",
      "768/768 [==============================] - 0s 57us/step - loss: 0.5454 - accuracy: 0.7357\n",
      "Epoch 110/150\n",
      "768/768 [==============================] - 0s 54us/step - loss: 0.5326 - accuracy: 0.7370\n",
      "Epoch 111/150\n",
      "768/768 [==============================] - 0s 55us/step - loss: 0.5183 - accuracy: 0.7526\n",
      "Epoch 112/150\n",
      "768/768 [==============================] - 0s 56us/step - loss: 0.5220 - accuracy: 0.7552\n",
      "Epoch 113/150\n",
      "768/768 [==============================] - 0s 54us/step - loss: 0.5145 - accuracy: 0.7383\n",
      "Epoch 114/150\n",
      "768/768 [==============================] - 0s 55us/step - loss: 0.5182 - accuracy: 0.7565\n",
      "Epoch 115/150\n",
      "768/768 [==============================] - 0s 51us/step - loss: 0.5021 - accuracy: 0.7487\n",
      "Epoch 116/150\n",
      "768/768 [==============================] - 0s 53us/step - loss: 0.5268 - accuracy: 0.7279\n",
      "Epoch 117/150\n",
      "768/768 [==============================] - 0s 51us/step - loss: 0.5158 - accuracy: 0.7409\n",
      "Epoch 118/150\n",
      "768/768 [==============================] - 0s 54us/step - loss: 0.5107 - accuracy: 0.7448\n",
      "Epoch 119/150\n",
      "768/768 [==============================] - 0s 54us/step - loss: 0.5495 - accuracy: 0.7344\n",
      "Epoch 120/150\n",
      "768/768 [==============================] - 0s 53us/step - loss: 0.5109 - accuracy: 0.7539\n",
      "Epoch 121/150\n",
      "768/768 [==============================] - 0s 56us/step - loss: 0.5649 - accuracy: 0.7174\n",
      "Epoch 122/150\n",
      "768/768 [==============================] - 0s 53us/step - loss: 0.5514 - accuracy: 0.7305\n",
      "Epoch 123/150\n",
      "768/768 [==============================] - 0s 54us/step - loss: 0.5161 - accuracy: 0.7604\n",
      "Epoch 124/150\n",
      "768/768 [==============================] - 0s 54us/step - loss: 0.5143 - accuracy: 0.7565\n",
      "Epoch 125/150\n",
      "768/768 [==============================] - 0s 53us/step - loss: 0.5290 - accuracy: 0.7357\n",
      "Epoch 126/150\n",
      "768/768 [==============================] - 0s 54us/step - loss: 0.5373 - accuracy: 0.7396\n",
      "Epoch 127/150\n",
      "768/768 [==============================] - 0s 55us/step - loss: 0.5152 - accuracy: 0.7539\n",
      "Epoch 128/150\n",
      "768/768 [==============================] - 0s 55us/step - loss: 0.5158 - accuracy: 0.7331\n",
      "Epoch 129/150\n",
      "768/768 [==============================] - 0s 58us/step - loss: 0.5175 - accuracy: 0.7539\n",
      "Epoch 130/150\n",
      "768/768 [==============================] - 0s 56us/step - loss: 0.5242 - accuracy: 0.7513\n",
      "Epoch 131/150\n",
      "768/768 [==============================] - 0s 54us/step - loss: 0.5311 - accuracy: 0.7344\n",
      "Epoch 132/150\n",
      "768/768 [==============================] - 0s 53us/step - loss: 0.5209 - accuracy: 0.7422\n",
      "Epoch 133/150\n",
      "768/768 [==============================] - 0s 58us/step - loss: 0.5155 - accuracy: 0.7552\n",
      "Epoch 134/150\n",
      "768/768 [==============================] - 0s 54us/step - loss: 0.4926 - accuracy: 0.7591\n",
      "Epoch 135/150\n",
      "768/768 [==============================] - 0s 53us/step - loss: 0.5324 - accuracy: 0.7266\n",
      "Epoch 136/150\n",
      "768/768 [==============================] - 0s 53us/step - loss: 0.4986 - accuracy: 0.7656\n",
      "Epoch 137/150\n",
      "768/768 [==============================] - 0s 52us/step - loss: 0.5342 - accuracy: 0.7513\n",
      "Epoch 138/150\n",
      "768/768 [==============================] - 0s 52us/step - loss: 0.5127 - accuracy: 0.7656\n",
      "Epoch 139/150\n",
      "768/768 [==============================] - 0s 53us/step - loss: 0.5056 - accuracy: 0.7695\n",
      "Epoch 140/150\n",
      "768/768 [==============================] - 0s 53us/step - loss: 0.5024 - accuracy: 0.7461\n",
      "Epoch 141/150\n",
      "768/768 [==============================] - 0s 51us/step - loss: 0.5169 - accuracy: 0.7422\n",
      "Epoch 142/150\n",
      "768/768 [==============================] - 0s 51us/step - loss: 0.4959 - accuracy: 0.7617\n",
      "Epoch 143/150\n",
      "768/768 [==============================] - 0s 51us/step - loss: 0.4985 - accuracy: 0.7760\n",
      "Epoch 144/150\n",
      "768/768 [==============================] - 0s 52us/step - loss: 0.5496 - accuracy: 0.7227\n",
      "Epoch 145/150\n",
      "768/768 [==============================] - 0s 52us/step - loss: 0.4978 - accuracy: 0.7565\n",
      "Epoch 146/150\n",
      "768/768 [==============================] - 0s 51us/step - loss: 0.5033 - accuracy: 0.7604\n",
      "Epoch 147/150\n",
      "768/768 [==============================] - 0s 52us/step - loss: 0.5060 - accuracy: 0.7526\n",
      "Epoch 148/150\n",
      "768/768 [==============================] - 0s 51us/step - loss: 0.5043 - accuracy: 0.7552\n",
      "Epoch 149/150\n",
      "768/768 [==============================] - 0s 54us/step - loss: 0.5120 - accuracy: 0.7526\n",
      "Epoch 150/150\n",
      "768/768 [==============================] - 0s 55us/step - loss: 0.4998 - accuracy: 0.7513\n"
     ]
    },
    {
     "data": {
      "text/plain": [
       "<keras.callbacks.callbacks.History at 0x1b088f4fe48>"
      ]
     },
     "execution_count": 9,
     "metadata": {},
     "output_type": "execute_result"
    }
   ],
   "source": [
    "# fit the keras model on the dataset\n",
    "model.fit(X, y, epochs=150, batch_size=10)"
   ]
  },
  {
   "cell_type": "code",
   "execution_count": 10,
   "metadata": {},
   "outputs": [
    {
     "name": "stdout",
     "output_type": "stream",
     "text": [
      "768/768 [==============================] - 0s 22us/step\n",
      "Accuracy: 72.79\n"
     ]
    }
   ],
   "source": [
    "# evaluate the keras model\n",
    "_, accuracy = model.evaluate(X, y)\n",
    "print('Accuracy: %.2f' % (accuracy*100))"
   ]
  },
  {
   "cell_type": "code",
   "execution_count": 11,
   "metadata": {},
   "outputs": [
    {
     "name": "stdout",
     "output_type": "stream",
     "text": [
      "[6.0, 148.0, 72.0, 35.0, 0.0, 33.6, 0.627, 50.0] => 1 (expected 1)\n",
      "[1.0, 85.0, 66.0, 29.0, 0.0, 26.6, 0.351, 31.0] => 0 (expected 0)\n",
      "[8.0, 183.0, 64.0, 0.0, 0.0, 23.3, 0.672, 32.0] => 1 (expected 1)\n",
      "[1.0, 89.0, 66.0, 23.0, 94.0, 28.1, 0.167, 21.0] => 0 (expected 0)\n",
      "[0.0, 137.0, 40.0, 35.0, 168.0, 43.1, 2.288, 33.0] => 1 (expected 1)\n"
     ]
    }
   ],
   "source": [
    "# make class predictions with the model\n",
    "predictions = model.predict_classes(X)\n",
    "# summarize the first 5 cases\n",
    "for i in range(5):\n",
    "\tprint('%s => %d (expected %d)' % (X[i].tolist(), predictions[i], y[i]))"
   ]
  },
  {
   "cell_type": "markdown",
   "metadata": {},
   "source": [
    "# 5.2 Neural network models for multi-class classification problems"
   ]
  },
  {
   "cell_type": "code",
   "execution_count": 22,
   "metadata": {},
   "outputs": [],
   "source": [
    "import pandas\n",
    "from keras.models import Sequential\n",
    "from keras.layers import Dense\n",
    "from keras.wrappers.scikit_learn import KerasClassifier\n",
    "from keras.utils import np_utils\n",
    "from sklearn.model_selection import cross_val_score\n",
    "from sklearn.model_selection import KFold\n",
    "from sklearn.preprocessing import LabelEncoder\n",
    "from sklearn.pipeline import Pipeline"
   ]
  },
  {
   "cell_type": "code",
   "execution_count": 23,
   "metadata": {},
   "outputs": [],
   "source": [
    "# load dataset\n",
    "url = 'https://raw.githubusercontent.com/jbrownlee/Datasets/master/iris.csv'\n",
    "dataframe = pandas.read_csv(url, header=None)\n",
    "dataset = dataframe.values\n",
    "X = dataset[:,0:4].astype(float)\n",
    "Y = dataset[:,4]"
   ]
  },
  {
   "cell_type": "code",
   "execution_count": 25,
   "metadata": {},
   "outputs": [
    {
     "data": {
      "text/html": [
       "<div>\n",
       "<style scoped>\n",
       "    .dataframe tbody tr th:only-of-type {\n",
       "        vertical-align: middle;\n",
       "    }\n",
       "\n",
       "    .dataframe tbody tr th {\n",
       "        vertical-align: top;\n",
       "    }\n",
       "\n",
       "    .dataframe thead th {\n",
       "        text-align: right;\n",
       "    }\n",
       "</style>\n",
       "<table border=\"1\" class=\"dataframe\">\n",
       "  <thead>\n",
       "    <tr style=\"text-align: right;\">\n",
       "      <th></th>\n",
       "      <th>0</th>\n",
       "      <th>1</th>\n",
       "      <th>2</th>\n",
       "      <th>3</th>\n",
       "      <th>4</th>\n",
       "    </tr>\n",
       "  </thead>\n",
       "  <tbody>\n",
       "    <tr>\n",
       "      <th>0</th>\n",
       "      <td>5.1</td>\n",
       "      <td>3.5</td>\n",
       "      <td>1.4</td>\n",
       "      <td>0.2</td>\n",
       "      <td>Iris-setosa</td>\n",
       "    </tr>\n",
       "    <tr>\n",
       "      <th>1</th>\n",
       "      <td>4.9</td>\n",
       "      <td>3.0</td>\n",
       "      <td>1.4</td>\n",
       "      <td>0.2</td>\n",
       "      <td>Iris-setosa</td>\n",
       "    </tr>\n",
       "    <tr>\n",
       "      <th>2</th>\n",
       "      <td>4.7</td>\n",
       "      <td>3.2</td>\n",
       "      <td>1.3</td>\n",
       "      <td>0.2</td>\n",
       "      <td>Iris-setosa</td>\n",
       "    </tr>\n",
       "    <tr>\n",
       "      <th>3</th>\n",
       "      <td>4.6</td>\n",
       "      <td>3.1</td>\n",
       "      <td>1.5</td>\n",
       "      <td>0.2</td>\n",
       "      <td>Iris-setosa</td>\n",
       "    </tr>\n",
       "    <tr>\n",
       "      <th>4</th>\n",
       "      <td>5.0</td>\n",
       "      <td>3.6</td>\n",
       "      <td>1.4</td>\n",
       "      <td>0.2</td>\n",
       "      <td>Iris-setosa</td>\n",
       "    </tr>\n",
       "  </tbody>\n",
       "</table>\n",
       "</div>"
      ],
      "text/plain": [
       "     0    1    2    3            4\n",
       "0  5.1  3.5  1.4  0.2  Iris-setosa\n",
       "1  4.9  3.0  1.4  0.2  Iris-setosa\n",
       "2  4.7  3.2  1.3  0.2  Iris-setosa\n",
       "3  4.6  3.1  1.5  0.2  Iris-setosa\n",
       "4  5.0  3.6  1.4  0.2  Iris-setosa"
      ]
     },
     "execution_count": 25,
     "metadata": {},
     "output_type": "execute_result"
    }
   ],
   "source": [
    "dataframe.head()"
   ]
  },
  {
   "cell_type": "code",
   "execution_count": 26,
   "metadata": {},
   "outputs": [],
   "source": [
    "# encode class values as integers\n",
    "encoder = LabelEncoder()\n",
    "encoder.fit(Y)\n",
    "encoded_Y = encoder.transform(Y)\n",
    "# convert integers to dummy variables (i.e. one hot encoded)\n",
    "dummy_y = np_utils.to_categorical(encoded_Y)"
   ]
  },
  {
   "cell_type": "code",
   "execution_count": 27,
   "metadata": {},
   "outputs": [],
   "source": [
    "# define baseline model\n",
    "def baseline_model():\n",
    "    # create model\n",
    "    model = Sequential()\n",
    "    model.add(Dense(8, input_dim=4, activation='relu'))\n",
    "    model.add(Dense(3, activation='softmax'))\n",
    "    # Compile model\n",
    "    model.compile(loss='categorical_crossentropy', optimizer='adam', metrics=['accuracy'])\n",
    "    return model"
   ]
  },
  {
   "cell_type": "code",
   "execution_count": 28,
   "metadata": {},
   "outputs": [],
   "source": [
    "estimator = KerasClassifier(build_fn=baseline_model, epochs=200, batch_size=5, verbose=0)"
   ]
  },
  {
   "cell_type": "code",
   "execution_count": 29,
   "metadata": {},
   "outputs": [],
   "source": [
    "kfold = KFold(n_splits=10, shuffle=True)"
   ]
  },
  {
   "cell_type": "code",
   "execution_count": 30,
   "metadata": {},
   "outputs": [
    {
     "name": "stdout",
     "output_type": "stream",
     "text": [
      "Baseline: 96.67% (3.33%)\n"
     ]
    }
   ],
   "source": [
    "results = cross_val_score(estimator, X, dummy_y, cv=kfold)\n",
    "print(\"Baseline: %.2f%% (%.2f%%)\" % (results.mean()*100, results.std()*100))"
   ]
  }
 ],
 "metadata": {
  "kernelspec": {
   "display_name": "Python 3",
   "language": "python",
   "name": "python3"
  },
  "language_info": {
   "codemirror_mode": {
    "name": "ipython",
    "version": 3
   },
   "file_extension": ".py",
   "mimetype": "text/x-python",
   "name": "python",
   "nbconvert_exporter": "python",
   "pygments_lexer": "ipython3",
   "version": "3.7.9"
  }
 },
 "nbformat": 4,
 "nbformat_minor": 4
}
